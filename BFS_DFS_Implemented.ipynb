{
  "nbformat": 4,
  "nbformat_minor": 0,
  "metadata": {
    "colab": {
      "name": "BFS_DFS_Implemented.ipynb",
      "provenance": []
    },
    "kernelspec": {
      "name": "python3",
      "display_name": "Python 3"
    },
    "accelerator": "GPU"
  },
  "cells": [
    {
      "cell_type": "code",
      "metadata": {
        "id": "A8tS2ZGItFRc",
        "colab_type": "code",
        "colab": {}
      },
      "source": [
        "# Implemented BFS Code"
      ],
      "execution_count": 0,
      "outputs": []
    },
    {
      "cell_type": "code",
      "metadata": {
        "id": "39U5LQQEtkbk",
        "colab_type": "code",
        "colab": {
          "base_uri": "https://localhost:8080/",
          "height": 51
        },
        "outputId": "4b53d298-35a2-43de-c790-d5a22385b25c"
      },
      "source": [
        "# Python3 Program to print BFS traversal \n",
        "# from a given source vertex. BFS(int s) \n",
        "# traverses vertices reachable from s. \n",
        "from collections import defaultdict \n",
        "  \n",
        "# This class represents a directed graph \n",
        "# using adjacency list representation \n",
        "class Graph: \n",
        "  \n",
        "    # Constructor \n",
        "    def __init__(self): \n",
        "  \n",
        "        # default dictionary to store graph \n",
        "        self.graph = defaultdict(list) \n",
        "  \n",
        "    # function to add an edge to graph \n",
        "    def addEdge(self,u,v): \n",
        "        self.graph[u].append(v) \n",
        "  \n",
        "    # Function to print a BFS of graph \n",
        "    def BFS(self, s): \n",
        "  \n",
        "        # Mark all the vertices as not visited \n",
        "        visited = [False] * (len(self.graph)) \n",
        "  \n",
        "        # Create a queue for BFS \n",
        "        queue = [] \n",
        "  \n",
        "        # Mark the source node as  \n",
        "        # visited and enqueue it \n",
        "        queue.append(s) \n",
        "        visited[s] = True\n",
        "  \n",
        "        while queue: \n",
        "  \n",
        "            # Dequeue a vertex from  \n",
        "            # queue and print it \n",
        "            s = queue.pop(0) \n",
        "            print (s, end = \" \") \n",
        "  \n",
        "            # Get all adjacent vertices of the \n",
        "            # dequeued vertex s. If a adjacent \n",
        "            # has not been visited, then mark it \n",
        "            # visited and enqueue it \n",
        "            for i in self.graph[s]: \n",
        "                if visited[i] == False: \n",
        "                    queue.append(i) \n",
        "                    visited[i] = True\n",
        "  \n",
        "# Driver code \n",
        "  \n",
        "# Create a graph given in \n",
        "# the above diagram \n",
        "g = Graph() \n",
        "g.addEdge(0, 1) \n",
        "g.addEdge(0, 2) \n",
        "g.addEdge(1, 2) \n",
        "g.addEdge(2, 0) \n",
        "g.addEdge(2, 3) \n",
        "g.addEdge(3, 3) \n",
        "  \n",
        "print (\"Following is Breadth First Traversal\"\n",
        "                  \" (starting from vertex 2)\") \n",
        "g.BFS(2)"
      ],
      "execution_count": 2,
      "outputs": [
        {
          "output_type": "stream",
          "text": [
            "Following is Breadth First Traversal (starting from vertex 2)\n",
            "2 0 3 1 "
          ],
          "name": "stdout"
        }
      ]
    },
    {
      "cell_type": "code",
      "metadata": {
        "id": "brNTDmWHtkfE",
        "colab_type": "code",
        "colab": {}
      },
      "source": [
        "# Implemented DFS Code"
      ],
      "execution_count": 0,
      "outputs": []
    },
    {
      "cell_type": "code",
      "metadata": {
        "id": "mlid1Dzctkhc",
        "colab_type": "code",
        "colab": {
          "base_uri": "https://localhost:8080/",
          "height": 51
        },
        "outputId": "b8d1e122-1122-4599-ec13-ede10adc4def"
      },
      "source": [
        "# Python3 program to print DFS traversal  \n",
        "# from a given given graph \n",
        "from collections import defaultdict \n",
        "  \n",
        "# This class represents a directed graph using \n",
        "# adjacency list representation \n",
        "class Graph: \n",
        "  \n",
        "    # Constructor \n",
        "    def __init__(self): \n",
        "  \n",
        "        # default dictionary to store graph \n",
        "        self.graph = defaultdict(list) \n",
        "  \n",
        "    # function to add an edge to graph \n",
        "    def addEdge(self, u, v): \n",
        "        self.graph[u].append(v) \n",
        "  \n",
        "    # A function used by DFS \n",
        "    def DFSUtil(self, v, visited): \n",
        "  \n",
        "        # Mark the current node as visited  \n",
        "        # and print it \n",
        "        visited[v] = True\n",
        "        print(v, end = ' ') \n",
        "  \n",
        "        # Recur for all the vertices  \n",
        "        # adjacent to this vertex \n",
        "        for i in self.graph[v]: \n",
        "            if visited[i] == False: \n",
        "                self.DFSUtil(i, visited) \n",
        "  \n",
        "    # The function to do DFS traversal. It uses \n",
        "    # recursive DFSUtil() \n",
        "    def DFS(self, v): \n",
        "  \n",
        "        # Mark all the vertices as not visited \n",
        "        visited = [False] * (len(self.graph)) \n",
        "  \n",
        "        # Call the recursive helper function  \n",
        "        # to print DFS traversal \n",
        "        self.DFSUtil(v, visited) \n",
        "  \n",
        "# Driver code \n",
        "  \n",
        "# Create a graph given  \n",
        "# in the above diagram \n",
        "g = Graph() \n",
        "g.addEdge(0, 1) \n",
        "g.addEdge(0, 2) \n",
        "g.addEdge(1, 2) \n",
        "g.addEdge(2, 0) \n",
        "g.addEdge(2, 3) \n",
        "g.addEdge(3, 3) \n",
        "  \n",
        "print(\"Following is DFS from (starting from vertex 2)\") \n",
        "g.DFS(2) "
      ],
      "execution_count": 3,
      "outputs": [
        {
          "output_type": "stream",
          "text": [
            "Following is DFS from (starting from vertex 2)\n",
            "2 0 1 3 "
          ],
          "name": "stdout"
        }
      ]
    },
    {
      "cell_type": "code",
      "metadata": {
        "id": "mxJ4gw_PmkM_",
        "colab_type": "code",
        "colab": {}
      },
      "source": [
        ""
      ],
      "execution_count": 0,
      "outputs": []
    }
  ]
}